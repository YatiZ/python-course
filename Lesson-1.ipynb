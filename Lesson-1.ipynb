{
 "cells": [
  {
   "cell_type": "code",
   "execution_count": 7,
   "id": "62d9e84a",
   "metadata": {},
   "outputs": [
    {
     "name": "stdout",
     "output_type": "stream",
     "text": [
      "[13.2, 6.6, 4.4, 2.2]\n"
     ]
    }
   ],
   "source": [
    "order_list = [6, 3, 2, 1]\n",
    "price = 2.20\n",
    "\n",
    "amount_list =[]\n",
    "for i in order_list:\n",
    "    amount = i * price\n",
    "    format_amount = round(amount,2)\n",
    "    amount_list.append(format_amount)\n",
    "print(amount_list)"
   ]
  },
  {
   "cell_type": "code",
   "execution_count": null,
   "id": "4aa45710",
   "metadata": {},
   "outputs": [],
   "source": []
  }
 ],
 "metadata": {
  "kernelspec": {
   "display_name": "Python 3 (ipykernel)",
   "language": "python",
   "name": "python3"
  },
  "language_info": {
   "codemirror_mode": {
    "name": "ipython",
    "version": 3
   },
   "file_extension": ".py",
   "mimetype": "text/x-python",
   "name": "python",
   "nbconvert_exporter": "python",
   "pygments_lexer": "ipython3",
   "version": "3.9.13"
  }
 },
 "nbformat": 4,
 "nbformat_minor": 5
}
